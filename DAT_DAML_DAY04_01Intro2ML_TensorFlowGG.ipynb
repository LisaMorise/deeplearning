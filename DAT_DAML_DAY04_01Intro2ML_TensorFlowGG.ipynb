{
  "nbformat": 4,
  "nbformat_minor": 0,
  "metadata": {
    "colab": {
      "name": "DAT_DAML_DAY04_01Intro2ML_TensorFlowGG.ipynb",
      "provenance": [],
      "collapsed_sections": [
        "IQnIfUdleSo7",
        "Rvq6C3-ArSKC",
        "gCOVW78mwuKl"
      ]
    },
    "kernelspec": {
      "name": "python3",
      "display_name": "Python 3"
    },
    "accelerator": "GPU"
  },
  "cells": [
    {
      "cell_type": "markdown",
      "metadata": {
        "id": "n96FblaAHZe6",
        "colab_type": "text"
      },
      "source": [
        "<table ><tr><td valign='center' bgcolor='white'>\n",
        "  <a href=\"https://web.facebook.com/DAT.KUSRC/\" target=\"_blank\"><img src=\"https://drive.google.com/uc?id=1dNBiKikzW1-osi6lleLOgSOKQ65IIfMC\" height=\"50px\"></a>&nbsp;&nbsp;&nbsp;&nbsp;&nbsp;\n",
        "</td><td valign='center' bgcolor='white'>\n",
        "  <a href=\"https://www.ku.ac.th/\" target=\"_blank\"><img src=\"https://drive.google.com/uc?id=1ZfGOBmxAwg8SAhyseFziyinzxBGme78a\" height=\"80px\"></a>&nbsp;&nbsp;&nbsp;&nbsp;&nbsp;\n",
        "</td><td valign='center' bgcolor='white'>\n",
        "<a href=\"https://www.tensorflow.org/\" target=\"_blank\"><img src=\"https://upload.wikimedia.org/wikipedia/commons/thumb/1/11/TensorFlowLogo.svg/1200px-TensorFlowLogo.svg.png\" height=\"80px\"></a>&nbsp;&nbsp;&nbsp;&nbsp;&nbsp;\n",
        "</td><td valign='center' bgcolor='white'>\n",
        "  <a href=\"https://mike.cpe.ku.ac.th/\" target=\"_blank\"><img src=\"https://drive.google.com/uc?id=1s6r3iG_Slpu_NSWqdt5zBp8Z9hV0-zh6\" height=\"50px\"></a>\n",
        "</td></tr></table>"
      ]
    },
    {
      "cell_type": "markdown",
      "metadata": {
        "id": "3fsj-W926IGN",
        "colab_type": "text"
      },
      "source": [
        "---\n",
        "\n",
        "<center><h1><b>Introduction to Machine Learning</b></h1></center>\n",
        "\n",
        "---\n",
        "*   Acknowledgement: Most parts of this tutorail were extracted from [Machine Learning, Zero to Hero](https://www.youtube.com/watch?v=KNAWp2S3w94), Google TensorFlow 2019."
      ]
    },
    {
      "cell_type": "code",
      "metadata": {
        "id": "DZ8UYBnfLDv-",
        "colab_type": "code",
        "outputId": "04e3a6d0-b737-4580-df3d-2bad3b981a34",
        "colab": {
          "base_uri": "https://localhost:8080/",
          "height": 54
        }
      },
      "source": [
        "print('Introduction to Machine Learning..')\n",
        "print('  Brought to you by K.Toto@MikeLab.Net')"
      ],
      "execution_count": 0,
      "outputs": [
        {
          "output_type": "stream",
          "text": [
            "Introduction to Machine Learning..\n",
            "  Brought to you by K.Toto@MikeLab.Net\n"
          ],
          "name": "stdout"
        }
      ]
    },
    {
      "cell_type": "markdown",
      "metadata": {
        "id": "IQnIfUdleSo7",
        "colab_type": "text"
      },
      "source": [
        "## 1. The game of Rock, Paper and Scissor"
      ]
    },
    {
      "cell_type": "markdown",
      "metadata": {
        "id": "0zK9k_5_IYiA",
        "colab_type": "text"
      },
      "source": [
        "For the <font color=ff00ff>Rack</font>, <font color=ffff00>Paper</font> and <font color=00ffff>Scissor</font> game, it is very easy for the human, although a <font color=ff5733>child</font>, to understand the rule and learn how to play this game in just a few minute.\n",
        "\n",
        "First, let's take a look at the basic part of this game that the <font color=17f703>human brain</font> is really good at. That is, to recognize what it's actually looking at. \n",
        "\n",
        "![](https://drive.google.com/uc?export=view&id=1LSTaqcyLcBv5NQS-hyVP4zK9TbONuvit)\n",
        "\n",
        "---"
      ]
    },
    {
      "cell_type": "markdown",
      "metadata": {
        "id": "LVr3lGyTbSzg",
        "colab_type": "text"
      },
      "source": [
        "Consider these images, most people can look at them and instanly recognize which ones are <font color=ff00ff>rock</font>, which ones are <font color=ffff00>scissor</font>, and which ones are <font color=00ffff>paper</font>.\n",
        "\n",
        "![alt text](https://drive.google.com/uc?id=1PrVVBVI1i1zRIYSJMuHeS35rqMg5epFG)\n",
        "\n",
        "But how we could program a computer to <font color=ff00ff>recognize</font> ones of them?\n",
        "\n",
        "---"
      ]
    },
    {
      "cell_type": "markdown",
      "metadata": {
        "id": "KA3wwumUcNdz",
        "colab_type": "text"
      },
      "source": [
        "![](https://drive.google.com/uc?id=1HpmwUp6-otTIqdfdv7ZOYDD4Cww2ArDh)\n",
        "\n",
        "Think about all of the <font color=ff00ff>diversity</font> of hand <font color=00ffff>types</font>, skin <font color=00ffff>tone</font> and <font color=00ffff>color</font>, and even people who do scissors with their thumb sticking out, and other poeple who do scissors with their thumb sticking in.\n",
        "\n",
        "---"
      ]
    },
    {
      "cell_type": "markdown",
      "metadata": {
        "id": "V072zIRGePac",
        "colab_type": "text"
      },
      "source": [
        "![](https://drive.google.com/uc?id=1e--Xp5ivQkS0ff-3BnqLPJ77LA65sCR6)\n",
        "\n",
        "If we've ever written any kind of code, we'll instantly realize that this is a really dificult task. It might take us thousands or tens of thousands of lines of code, and that's just to play <font color=ff00ff>rock</font>, <font color=ffff00>paper</font>, or <font color=00ffff>scissor</font> game.\n",
        "\n",
        "\n",
        "So what if there was a diffrent way to <font color=03f72f>teach</font> a computer to <font color=03f72f>recognize</font> what it sees? \n",
        "\n",
        "\n",
        "What if you could have a computer <font color=03f72f>learn</font> <font color=00ffff>in the same way</font> that <font color=03f72f>a human does</font>?\n",
        "\n",
        "\n",
        "That is the core of <font color=03e3f7>**machine learning**</font> and the path to <font color=03e3f7>**artificial intelligence**</font>.\n",
        "\n",
        "---"
      ]
    },
    {
      "cell_type": "markdown",
      "metadata": {
        "id": "i3XQWI1uj67d",
        "colab_type": "text"
      },
      "source": [
        "Consider building applications in the <font color=ff00ff>traditional</font> <font color=03f72f>problem solving</font> <font color=ff00ff>paradigm</font> (aka. by programming way) as represented in the following diagram:\n",
        "<br>\n",
        "<center><img src=https://codelabs.developers.google.com/codelabs/tensorflow-lab1-helloworld/img/c72f871306134e45.png></center>\n",
        "\n",
        "We would have <font color=03f72f>data</font>, for example, a feed from a webcam, and we have <font color=00ffff>rules</font> that act on this data. \n",
        "\n",
        "These rules are expressed in a programming language and are the bulk of any code that we write, as the example above. \n",
        "\n",
        "Ultimately, these rules will act on the data and give you an answer. Maybe it sees a rock, maybe it sees a paper, and maybe it seed the scissor.\n",
        "\n",
        "---"
      ]
    },
    {
      "cell_type": "markdown",
      "metadata": {
        "id": "Pu18dg8ElZXB",
        "colab_type": "text"
      },
      "source": [
        "<center><img src=https://codelabs.developers.google.com/codelabs/tensorflow-lab1-helloworld/img/d55ecc03b6c7b637.png></center>\n",
        "\n",
        "But if we turn the diagram around like this, and <font color=00ff00>instead of</font> us as the programmer to figure out the rules, we <font color=00ff00>instead</font> give it answers with the data, and <font color=ff00ff>let the computer figures out what the rules are</font>. That is the <font color=03e3f7>**machine learning**</font>.\n",
        "\n",
        "---"
      ]
    },
    {
      "cell_type": "markdown",
      "metadata": {
        "id": "Zo9ZT3u4mImF",
        "colab_type": "text"
      },
      "source": [
        "![](https://drive.google.com/uc?id=1rJks1MAIu5a96fiJ-Ud8Vey5plS_8LCp)\n",
        "\n",
        "So, now if we have lots of pictures of rocks, papers, scissors, and <font color=ff00ff>tell</font> the computer <font color=ff00ff>that</font> <font color=ffff00>this is what a</font> <font color=ff00ff>rock</font> <font color=ffff00>looks like</font>, and this is what paper looks like, and this is what scissors looks like.\n",
        "\n",
        "\n",
        "And we can have a computer to <font color=ff00ff>figure out</font> the patterns that match them to each other. Then our computer will have <font color=ff00ff>learned</font> to <font color=ff00ff>recognize</font> a rock, paper, and scissor. That's the core of building something that uses <font color=03e3f7>**machine learning**</font>.\n",
        "\n",
        "\n",
        "We get a set of data that has patterns inherent in it, and we have a computer to learn what those patterns are.\n",
        "\n",
        "---"
      ]
    },
    {
      "cell_type": "markdown",
      "metadata": {
        "id": "Rvq6C3-ArSKC",
        "colab_type": "text"
      },
      "source": [
        "## 2. Very simple thing for the machine learning to learn"
      ]
    },
    {
      "cell_type": "markdown",
      "metadata": {
        "id": "0zxjG15Bn973",
        "colab_type": "text"
      },
      "source": [
        "Before we write a neural network that learns something as comple as rock, paper, and scissor, let's see a much simpler example.\n",
        "\n",
        "Take a look at these numbers, there is a <font color=ff00ff>relationship</font> between the <font color=ffff00>X</font> and <font color=00ffff>Y</font> values. Can we see that?\n",
        "\n",
        "<table>\n",
        "<tr><td colspan=\"1\" rowspan=\"1\"><p><font color=ffff00>X</font>:</p>\n",
        "</td><td colspan=\"1\" rowspan=\"1\"><p>-1</p>\n",
        "</td><td colspan=\"1\" rowspan=\"1\"><p>0</p>\n",
        "</td><td colspan=\"1\" rowspan=\"1\"><p>1</p>\n",
        "</td><td colspan=\"1\" rowspan=\"1\"><p>2</p>\n",
        "</td><td colspan=\"1\" rowspan=\"1\"><p>3</p>\n",
        "</td><td colspan=\"1\" rowspan=\"1\"><p>4</p>\n",
        "</td></tr>\n",
        "<tr><td colspan=\"1\" rowspan=\"1\"><p><font color=00ffff>Y</font>:</p>\n",
        "</td><td colspan=\"1\" rowspan=\"1\"><p>-3</p>\n",
        "</td><td colspan=\"1\" rowspan=\"1\"><p>-1</p>\n",
        "</td><td colspan=\"1\" rowspan=\"1\"><p>1</p>\n",
        "</td><td colspan=\"1\" rowspan=\"1\"><p>3</p>\n",
        "</td><td colspan=\"1\" rowspan=\"1\"><p>5</p>\n",
        "</td><td colspan=\"1\" rowspan=\"1\"><p>7</p>\n",
        "</td></tr>\n",
        "</table>\n",
        "\n",
        "It is actually <font color=ff00ff>**Y = 2X - 1**</font>.\n",
        "\n",
        "So if we saw this, how did we get that formular?\n",
        "\n",
        "Maybe we notice that the Y value increases by 2, while the X value only increases by 1. So, it was Y = 2X plus a minus something.\n",
        "\n",
        "And then, we may have seen that when X was zero, Y was minus one, so we figured that Y = 2X - 1 would be a good <font color=ffff00>guess</font>, and then we took a look at the other numbers and saw that it worked.\n",
        "\n",
        "This's exactly the <font color=ff00ff>principle</font> what all the <font color=03e3f7>machine learning</font> works on.\n",
        "\n",
        "\n",
        "\n"
      ]
    },
    {
      "cell_type": "markdown",
      "metadata": {
        "id": "gCOVW78mwuKl",
        "colab_type": "text"
      },
      "source": [
        "### The code.."
      ]
    },
    {
      "cell_type": "markdown",
      "metadata": {
        "id": "X4ILNAYRP06H",
        "colab_type": "text"
      },
      "source": [
        "So now let's take a look. This is the entire code that we could use to create a machine-learned model that figures out what matches these numbers to each other.\n",
        "\n",
        "![](https://drive.google.com/uc?id=1-pY1dK2RwkuYdDwX5KN9JXtydp2lDRig)"
      ]
    },
    {
      "cell_type": "markdown",
      "metadata": {
        "id": "tdVUi3VQrkTP",
        "colab_type": "text"
      },
      "source": [
        "```\n",
        "model = keras.Sequential([keras.layers.Dense(units=1, input_shape=[1])])\n",
        "```\n",
        "\n",
        "This first line defines the <font color=ff00ff>model</font> itself. A model is a <font color=ffff00>trained neural network</font>, and here we have the simplest possible neural network one, which in this case, is a single layer indicated by the ```keras.layers.Dense(...)``` code. \n",
        "\n",
        "This layer has a single neuron in it, indicated by ```units=1```. We also feed a single value into the neural network, which is the *X* value, and we'll have the neural network to predict what the *Y* would be for that *X*. So that's why we just say the the ```input_shape``` is one value.\n",
        "\n",
        "---"
      ]
    },
    {
      "cell_type": "markdown",
      "metadata": {
        "id": "vcmeKnd3PfeK",
        "colab_type": "text"
      },
      "source": [
        "```\n",
        "model.compile(optimizer='sgd', loss='mean_squared_error')\n",
        "```\n",
        "When we <font color=ff00ff>compile</font> the model, there are two functions: the <font color=ffff00>loss</font> and the <font color=00ffff>optimizer</font>. These are the <font color=03f72f>key</font> to the machine learning. \n",
        "\n",
        "How machine learning works is that the <font color=00ff00>model</font> will <font color=ff00ff>make a guess</font> about the relationship between the numbers. For example, it might guess that **y = 5X + 5**.\n",
        "\n",
        "And when training, it will then calculate <font color=ff00ff>*how good*</font> or <font color=ff00ff>*how bad*</font> that the guess is, using the <font color=ffff00>**loss** function</font>. And then, it will use the <font color=00ffff>**optimizer** function</font> to generate another <font color=ff00ff>guess</font>.\n",
        "\n",
        "---"
      ]
    },
    {
      "cell_type": "markdown",
      "metadata": {
        "id": "7Z7mKkNDQf6a",
        "colab_type": "text"
      },
      "source": [
        "```\n",
        "model.fit(xs, ys, epoches=500)\n",
        "```\n",
        "The logic is that the combination of these two functions will <font color=ff00ff>slowly</font> get us <font color=ff00ff>closer</font> and <font color=ff00ff>closer</font> to the correct formula. \n",
        "\n",
        "And, in this case, it will go through that loop 500 times, <font color=ff00ff>making a guess</font>, <font color=ffff00>calculating how accurate that guess is</font>, and the <font color=00ffff>using the *optimizer* to enhance that guess</font>, and so on. \n",
        "\n",
        "---"
      ]
    },
    {
      "cell_type": "markdown",
      "metadata": {
        "id": "gfuJBuyTRmdZ",
        "colab_type": "text"
      },
      "source": [
        "```\n",
        "xs = np.array([-1.0, 0.0, 1.0, 2.0, 3.0, 4.0], dtype=float)\n",
        "ys = np.array([-3.0, -1.0, 1.0, 3.0, 5.0, 7.0], dtype=float)\n",
        "\n",
        "model.fit(xs, ys, epochs=500)\n",
        "```\n",
        "The data itself is set up as an <font color=00ff00>array of Xs and Ys</font>. \n",
        "\n",
        "And the process of matching them to each other is in the <font color=00ffff>`fit()`</font> method of the model. \n",
        "\n",
        "We literally says, <font color=ff00ff>**fit the Xs to the Ys and try this 500 times**</font>.\n",
        "\n",
        "---"
      ]
    },
    {
      "cell_type": "markdown",
      "metadata": {
        "id": "WMj5FI7IVqZJ",
        "colab_type": "text"
      },
      "source": [
        "```\n",
        "print(model.predict([10.0]))\n",
        "```\n",
        "When it was done, we will have a <font color=ff00ff>trained model</font>. So now we can try to predict a Y value for a given X.\n",
        "\n",
        "When we try this line of code, predict the Y when X equals 10? We might think that the answer is exactly 19? \n",
        "\n",
        "But it isn't. It will print actually something like 18.9998! It's close to 19, but it's not quite there. Why do we think that would be?\n",
        "\n",
        "As the computer was trained to match only six pairs of numbers, it looks like a straight-line relationship between them, for those six pairs of numbers, but it may not be a straight line for values outside of those six. There is a very <font color=00ffff>high probability</font> that it is a straight line, but we can't be certain. And this probabilty is built into the <font color=ffff00>prediction</font>, so it's telling us a value very close to 19, instead of exactly 19.\n",
        "\n",
        "---"
      ]
    },
    {
      "cell_type": "code",
      "metadata": {
        "id": "kxoSkY0jzNHl",
        "colab_type": "code",
        "colab": {}
      },
      "source": [
        "# the simplest ML code to learn the relationship of X and Y\n",
        "from tensorflow import keras\n",
        "import numpy as np\n",
        "\n",
        "model = keras.Sequential([keras.layers.Dense(units=1, input_shape=[1])])\n",
        "model.compile(optimizer='sgd', loss='mean_squared_error')\n",
        "\n",
        "#xs = np.array([-1.0, 0.0, 1.0, 2.0, 3.0, 4.0], dtype=float)\n",
        "#ys = np.array([-3.0, -1.0, 1.0, 3.0, 5.0, 7.0], dtype=float)\n",
        "xs = np.array([i for i in range(-1,5)], dtype=float)\n",
        "ys = np.array([2*i-1 for i in range(-1,5)], dtype=float)\n",
        "\n",
        "model.fit(xs, ys, epochs=500)\n",
        "\n",
        "print(model.predict([10.0]))\n",
        "print('Done..')"
      ],
      "execution_count": 0,
      "outputs": []
    },
    {
      "cell_type": "code",
      "metadata": {
        "id": "FDyURkmrPL4H",
        "colab_type": "code",
        "colab": {}
      },
      "source": [
        "model.predict([10])"
      ],
      "execution_count": 0,
      "outputs": []
    }
  ]
}